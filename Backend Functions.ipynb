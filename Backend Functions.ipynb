{
 "cells": [
  {
   "cell_type": "code",
   "execution_count": 1,
   "metadata": {},
   "outputs": [
    {
     "name": "stderr",
     "output_type": "stream",
     "text": [
      "Using TensorFlow backend.\n"
     ]
    }
   ],
   "source": [
    "# imports \n",
    "from keras.utils import get_file\n",
    "from keras.models import load_model\n",
    "from keras.preprocessing.image import ImageDataGenerator\n",
    "\n",
    "from PIL import Image\n",
    "\n",
    "import numpy as np\n",
    "\n",
    "import cv2\n",
    "\n",
    "from random import shuffle"
   ]
  },
  {
   "cell_type": "code",
   "execution_count": 2,
   "metadata": {},
   "outputs": [],
   "source": [
    "# GLOBAL VARIABLES\n",
    "\n",
    "CLASSES = ['A','B', 'C','D', 'E','F', 'G', \\\n",
    "           'H', 'I','J', 'K','L', 'M','N', \\\n",
    "           'O','P', 'Q','R', 'S','T', 'U', \\\n",
    "           'V','W','X','Y','Z','del','nothing','space']\n",
    "\n",
    "MODEL_PATH = \"model/cnn-model.h5\"\n",
    "MODEL_WEIGHTS = \"model/cnn-model.weights.h5\""
   ]
  },
  {
   "cell_type": "code",
   "execution_count": 3,
   "metadata": {},
   "outputs": [
    {
     "name": "stdout",
     "output_type": "stream",
     "text": [
      "WARNING:tensorflow:From /Users/shreysamdani/anaconda3/envs/ieor135/lib/python3.7/site-packages/tensorflow/python/framework/op_def_library.py:263: colocate_with (from tensorflow.python.framework.ops) is deprecated and will be removed in a future version.\n",
      "Instructions for updating:\n",
      "Colocations handled automatically by placer.\n",
      "WARNING:tensorflow:From /Users/shreysamdani/anaconda3/envs/ieor135/lib/python3.7/site-packages/keras/backend/tensorflow_backend.py:3445: calling dropout (from tensorflow.python.ops.nn_ops) with keep_prob is deprecated and will be removed in a future version.\n",
      "Instructions for updating:\n",
      "Please use `rate` instead of `keep_prob`. Rate should be set to `rate = 1 - keep_prob`.\n"
     ]
    }
   ],
   "source": [
    "# LOAD THE MODEL\n",
    "\n",
    "model = load_model(MODEL_PATH)\n",
    "model.load_weights(MODEL_WEIGHTS)\n",
    "model.compile(optimizer='adam', loss='categorical_crossentropy', metrics=['accuracy'])"
   ]
  },
  {
   "cell_type": "code",
   "execution_count": 125,
   "metadata": {},
   "outputs": [],
   "source": [
    "# IMAGE PROCESSING\n",
    "\n",
    "datagen = ImageDataGenerator(\n",
    "    samplewise_center=True,\n",
    "    samplewise_std_normalization=True,\n",
    "    preprocessing_function = lambda x: cv2.Sobel(x, cv2.CV_64F, 0, 1, ksize=5) ,\n",
    ")"
   ]
  },
  {
   "cell_type": "code",
   "execution_count": 126,
   "metadata": {},
   "outputs": [],
   "source": [
    "## ACTUAL PREDICT FUNCTION\n",
    "\n",
    "def predict_letter(img):\n",
    "    img = img.resize((64,64), Image.ANTIALIAS)\n",
    "    img = np.array(img).reshape((1,64,64,3))\n",
    "    img = datagen.flow(img, batch_size = 1)[0]\n",
    "\n",
    "    y = model.predict(np.array(img))[0]\n",
    "    return CLASSES[np.argmax(y)]"
   ]
  },
  {
   "cell_type": "code",
   "execution_count": 127,
   "metadata": {},
   "outputs": [
    {
     "data": {
      "text/plain": [
       "'R'"
      ]
     },
     "execution_count": 127,
     "metadata": {},
     "output_type": "execute_result"
    }
   ],
   "source": [
    "## EXAMPLE USAGE ### \n",
    "a = Image.open(\"asl-alphabet/asl_alphabet_train/R/R1577.jpg\")\n",
    "predict_letter(a)"
   ]
  },
  {
   "cell_type": "code",
   "execution_count": 121,
   "metadata": {},
   "outputs": [
    {
     "name": "stdout",
     "output_type": "stream",
     "text": [
      "_________________________________________________________________\n",
      "Layer (type)                 Output Shape              Param #   \n",
      "=================================================================\n",
      "conv2d_9 (Conv2D)            (None, 61, 61, 64)        3136      \n",
      "_________________________________________________________________\n",
      "dropout_17 (Dropout)         (None, 61, 61, 64)        0         \n",
      "_________________________________________________________________\n",
      "flatten_9 (Flatten)          (None, 238144)            0         \n",
      "_________________________________________________________________\n",
      "dropout_18 (Dropout)         (None, 238144)            0         \n",
      "_________________________________________________________________\n",
      "dense_20 (Dense)             (None, 256)               60965120  \n",
      "_________________________________________________________________\n",
      "dense_21 (Dense)             (None, 29)                7453      \n",
      "=================================================================\n",
      "Total params: 60,975,709\n",
      "Trainable params: 60,975,709\n",
      "Non-trainable params: 0\n",
      "_________________________________________________________________\n"
     ]
    }
   ],
   "source": [
    "model.summary()"
   ]
  },
  {
   "cell_type": "code",
   "execution_count": 157,
   "metadata": {},
   "outputs": [],
   "source": [
    "words = open(\"words.txt\", \"r\").readlines()\n",
    "words = [word[:-1] for word in words]\n",
    "shuffle(words)\n",
    "\n",
    "def wordGenerator():\n",
    "    for word in words:\n",
    "        yield word\n",
    "        \n",
    "wordgen = wordGenerator()\n",
    "get_random_word = lambda : next(wordgen)"
   ]
  },
  {
   "cell_type": "code",
   "execution_count": 183,
   "metadata": {},
   "outputs": [
    {
     "data": {
      "text/plain": [
       "'reply'"
      ]
     },
     "execution_count": 183,
     "metadata": {},
     "output_type": "execute_result"
    }
   ],
   "source": [
    "# USE TO GET RANDOM WORD\n",
    "\n",
    "get_random_word()"
   ]
  }
 ],
 "metadata": {
  "kernelspec": {
   "display_name": "Python 3",
   "language": "python",
   "name": "python3"
  },
  "language_info": {
   "codemirror_mode": {
    "name": "ipython",
    "version": 3
   },
   "file_extension": ".py",
   "mimetype": "text/x-python",
   "name": "python",
   "nbconvert_exporter": "python",
   "pygments_lexer": "ipython3",
   "version": "3.7.3"
  }
 },
 "nbformat": 4,
 "nbformat_minor": 2
}
