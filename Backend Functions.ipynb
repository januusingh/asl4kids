{
 "cells": [
  {
   "cell_type": "code",
   "execution_count": 1020,
   "metadata": {},
   "outputs": [],
   "source": [
    "# imports \n",
    "from matplotlib import pyplot as plt\n",
    "\n",
    "from PIL import Image\n",
    "from skimage.feature import hog \n",
    "import numpy as np\n",
    "import imutils\n",
    "import cv2\n",
    "import os\n",
    "from random import shuffle"
   ]
  },
  {
   "cell_type": "code",
   "execution_count": 619,
   "metadata": {},
   "outputs": [],
   "source": [
    "# GLOBAL VARIABLES\n",
    "\n",
    "CLASSES = ['A','B', 'C','D', 'E','F', 'G', \\\n",
    "           'H', 'I','J', 'K','L', 'M','N', \\\n",
    "           'O','P', 'Q','R', 'S','T', 'U', \\\n",
    "           'V','W','X','Y','Z','del','nothing','space']\n",
    "\n",
    "MODEL_PATH = \"models/\""
   ]
  },
  {
   "cell_type": "code",
   "execution_count": 1086,
   "metadata": {},
   "outputs": [],
   "source": [
    "# LOAD THE MODEL\n",
    "import pickle\n",
    "\n",
    "models = {}\n",
    "for folder in os.listdir(\"models\"):\n",
    "    if folder != \".DS_Store\":\n",
    "        models[folder.split(\".\")[0]] = pickle.load(open(\"models/\"+folder, 'rb'))"
   ]
  },
  {
   "cell_type": "code",
   "execution_count": 1083,
   "metadata": {},
   "outputs": [],
   "source": [
    "## ACTUAL PREDICT FUNCTION\n",
    "\n",
    "def preprocess(img):\n",
    "    img = img[:]\n",
    "    img[np.where((img <=40).all(axis=2))] = [0,0,0]\n",
    "    img = cv2.Sobel(img, cv2.CV_64F, 0, 1, ksize=5)\n",
    "    return img\n",
    " \n",
    "\n",
    "def correct_letter(img, letter):\n",
    "    \n",
    "    model = models[letter]\n",
    "    img = cv2.resize(img,(64,64))\n",
    "    img = preprocess(img)\n",
    "    img = img.flatten()\n",
    "    img = img.reshape(1,img.shape[0])\n",
    "\n",
    "    y = model.predict(img)\n",
    "    return y"
   ]
  },
  {
   "cell_type": "code",
   "execution_count": 1088,
   "metadata": {},
   "outputs": [],
   "source": [
    "# ## EXAMPLE USAGE ### \n",
    "# Letter = \"Z\"\n",
    "\n",
    "# # correct_letter(img, Letter)\n",
    "\n",
    "# img2 = cv2.imread(\"/Users/shreysamdani/Google Drive/spring2019/ieor135/project/handgesturedataset/hand1_c_bot_seg_4_cropped.png\")\n",
    "# img = cv2.imread(\"/Users/shreysamdani/Downloads/c2.jpg\")\n",
    "# # img = cv2.imread(\"/Users/shreysamdani/Downloads/img_collection/A/A_8.png\")\n",
    "\n",
    "\n",
    "# plt.imshow(preprocess(cv2.resize(img2,(64,64))))\n",
    "# plt.show()\n",
    "\n",
    "# plt.imshow(preprocess(cv2.resize(img,(64,64))))\n",
    "# plt.show()\n",
    "# # plt.imshow(img,cmap = plt.cm.gray)\n",
    "# # plt.show()\n",
    "\n",
    "\n",
    "# correct_letter(img, Letter)"
   ]
  },
  {
   "cell_type": "code",
   "execution_count": 352,
   "metadata": {},
   "outputs": [],
   "source": [
    "words = open(\"words.txt\", \"r\").readlines()\n",
    "words = [word[:-1] for word in words]\n",
    "shuffle(words)\n",
    "\n",
    "def wordGenerator():\n",
    "    for word in words:\n",
    "        yield word\n",
    "        \n",
    "wordgen = wordGenerator()\n",
    "get_random_word = lambda : next(wordgen)"
   ]
  },
  {
   "cell_type": "code",
   "execution_count": 183,
   "metadata": {},
   "outputs": [
    {
     "data": {
      "text/plain": [
       "'reply'"
      ]
     },
     "execution_count": 183,
     "metadata": {},
     "output_type": "execute_result"
    }
   ],
   "source": [
    "# USE TO GET RANDOM WORD\n",
    "\n",
    "get_random_word()"
   ]
  },
  {
   "cell_type": "code",
   "execution_count": null,
   "metadata": {},
   "outputs": [],
   "source": []
  }
 ],
 "metadata": {
  "kernelspec": {
   "display_name": "Python 3",
   "language": "python",
   "name": "python3"
  },
  "language_info": {
   "codemirror_mode": {
    "name": "ipython",
    "version": 3
   },
   "file_extension": ".py",
   "mimetype": "text/x-python",
   "name": "python",
   "nbconvert_exporter": "python",
   "pygments_lexer": "ipython3",
   "version": "3.7.3"
  }
 },
 "nbformat": 4,
 "nbformat_minor": 2
}
