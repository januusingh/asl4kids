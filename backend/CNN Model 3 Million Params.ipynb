{
 "cells": [
  {
   "cell_type": "code",
   "execution_count": 39,
   "metadata": {},
   "outputs": [],
   "source": [
    "import seaborn as sns\n",
    "from tensorflow.keras.layers import Conv2D, Dense, Dropout, Flatten, MaxPooling2D\n",
    "from tensorflow.keras.models import Sequential, load_model\n",
    "from tensorflow.keras.preprocessing.image import ImageDataGenerator\n",
    "\n",
    "import cv2\n",
    "\n",
    "import pandas as pd\n",
    "import numpy as np\n",
    "import matplotlib.pyplot as plt\n",
    "import time\n",
    "import itertools\n",
    "from sklearn.metrics import confusion_matrix"
   ]
  },
  {
   "cell_type": "code",
   "execution_count": 31,
   "metadata": {},
   "outputs": [],
   "source": [
    "# GLOBAL VARS\n",
    "TRAIN_DIR = 'asl-alphabet/asl_alphabet_train'\n",
    "TEST_DIR = 'asl-alphabet/asl-alphabet-test'\n",
    "\n",
    "TARGET_SIZE = (64, 64)\n",
    "TARGET_DIMS = (64, 64, 3) # add channel for RGB\n",
    "N_CLASSES = 29\n",
    "VALIDATION_SPLIT = 0.15\n",
    "BATCH_SIZE = 64\n",
    "\n",
    "# Model saving for easier local iterations\n",
    "MODEL_DIR = 'aslalphabetcnnmodel1'\n",
    "MODEL_PATH = MODEL_DIR + '/cnn-model_try_2.h5'\n",
    "MODEL_WEIGHTS_PATH = MODEL_DIR + '/cnn-model.weights.h5'\n",
    "SAVE = True"
   ]
  },
  {
   "cell_type": "code",
   "execution_count": 24,
   "metadata": {},
   "outputs": [],
   "source": [
    "def make_generator(group):\n",
    "    \n",
    "    # used in preprocessing the image\n",
    "    augmentor_options = {\n",
    "        'samplewise_center': True,\n",
    "        'samplewise_std_normalization': True,\n",
    "        'preprocessing_function':lambda x: cv2.Sobel(x, cv2.CV_64F, 0, 1, ksize=5),\n",
    "        #'validation_split': VALIDATION_SPLIT\n",
    "    }\n",
    "    \n",
    "    # used in reading from directory\n",
    "    flow_options = {\n",
    "        'target_size': TARGET_SIZE,\n",
    "        'batch_size': BATCH_SIZE,\n",
    "        'shuffle': True,\n",
    "        #'subset': group\n",
    "    }\n",
    "\n",
    "    generator = ImageDataGenerator(**augmentor_options)\n",
    "    return generator.flow_from_directory(TEST_DIR, **flow_options)"
   ]
  },
  {
   "cell_type": "code",
   "execution_count": 19,
   "metadata": {},
   "outputs": [
    {
     "name": "stdout",
     "output_type": "stream",
     "text": [
      "_________________________________________________________________\n",
      "Layer (type)                 Output Shape              Param #   \n",
      "=================================================================\n",
      "conv2d (Conv2D)              (None, 61, 61, 64)        3136      \n",
      "_________________________________________________________________\n",
      "dropout (Dropout)            (None, 61, 61, 64)        0         \n",
      "_________________________________________________________________\n",
      "flatten (Flatten)            (None, 238144)            0         \n",
      "_________________________________________________________________\n",
      "dropout_1 (Dropout)          (None, 238144)            0         \n",
      "_________________________________________________________________\n",
      "dense (Dense)                (None, 256)               60965120  \n",
      "_________________________________________________________________\n",
      "dense_1 (Dense)              (None, 29)                7453      \n",
      "=================================================================\n",
      "Total params: 60,975,709\n",
      "Trainable params: 60,975,709\n",
      "Non-trainable params: 0\n",
      "_________________________________________________________________\n"
     ]
    }
   ],
   "source": [
    "def build_model(save=False):\n",
    "    \n",
    "    model = Sequential()\n",
    "    model.add(Conv2D(64, kernel_size=4, strides=1, activation='relu', input_shape=TARGET_DIMS))\n",
    "#     model.add(Conv2D(64, kernel_size=4, strides=2, activation='relu'))\n",
    "    model.add(Dropout(0.4))\n",
    "#     model.add(MaxPooling2D())\n",
    "#     model.add(Conv2D(128, kernel_size=4, strides=1, activation='relu'))\n",
    "#     model.add(Conv2D(128, kernel_size=4, strides=2, activation='relu'))\n",
    "#     model.add(Dropout(0.5))\n",
    "#     model.add(Conv2D(256, kernel_size=4, strides=1, activation='relu'))\n",
    "#     model.add(Conv2D(256, kernel_size=4, strides=2, activation='relu'))\n",
    "    model.add(Flatten())\n",
    "    model.add(Dropout(0.4))\n",
    "    model.add(Dense(256, activation='relu'))\n",
    "    model.add(Dense(N_CLASSES, activation='softmax'))\n",
    "\n",
    "    model.compile(optimizer='adam', loss='categorical_crossentropy', metrics=['accuracy'])\n",
    "    model.save(MODEL_PATH) \n",
    "    return model\n",
    "\n",
    "CNN_MODEL = build_model(save=SAVE)\n",
    "CNN_MODEL.summary()"
   ]
  },
  {
   "cell_type": "code",
   "execution_count": 22,
   "metadata": {},
   "outputs": [
    {
     "name": "stdout",
     "output_type": "stream",
     "text": [
      "Found 56270 images belonging to 29 classes.\n",
      "Found 9901 images belonging to 29 classes.\n",
      "Epoch 1/2\n",
      "155/155 [==============================] - 44s 281ms/step - loss: 1.9015 - acc: 0.6976\n",
      "880/880 [==============================] - 1551s 2s/step - loss: 0.0770 - acc: 0.9779 - val_loss: 1.9015 - val_acc: 0.6976\n",
      "Epoch 2/2\n",
      "155/155 [==============================] - 41s 266ms/step - loss: 2.3790 - acc: 0.6483\n",
      "880/880 [==============================] - 1789s 2s/step - loss: 0.0625 - acc: 0.9821 - val_loss: 2.3790 - val_acc: 0.6483\n",
      "Fitting the model took ~3340 second(s).\n"
     ]
    }
   ],
   "source": [
    "def fit_model(model, train_generator, val_generator, save):\n",
    "    fitted = model.fit_generator(train_generator, epochs=2, validation_data=val_generator)\n",
    "    if save: model.save_weights(MODEL_WEIGHTS_PATH)\n",
    "    return fitted, model\n",
    "\n",
    "\n",
    "CNN_TRAIN_GENERATOR = make_generator('training')\n",
    "CNN_VAL_GENERATOR = make_generator('validation')\n",
    "\n",
    "start_time = time.time()\n",
    "fitted, model = fit_model(CNN_MODEL, CNN_TRAIN_GENERATOR, CNN_VAL_GENERATOR, save=False)\n",
    "print('Fitting the model took ~{:.0f} second(s).'.format(time.time() - start_time))"
   ]
  },
  {
   "cell_type": "code",
   "execution_count": 27,
   "metadata": {},
   "outputs": [],
   "source": [
    "CNN_MODEL = model"
   ]
  },
  {
   "cell_type": "code",
   "execution_count": 28,
   "metadata": {},
   "outputs": [],
   "source": [
    "def evaluate_model(generator):\n",
    "    start_time = time.time()\n",
    "    evaluations = CNN_MODEL.evaluate_generator(generator)\n",
    "    for i in range(len(CNN_MODEL.metrics_names)):\n",
    "        print(\"{}: {:.2f}%\".format(\n",
    "            CNN_MODEL.metrics_names[i], evaluations[i] * 100))\n",
    "    print('Took {:.0f} seconds to evaluate this set.'.format(\n",
    "        time.time() - start_time))\n",
    "\n",
    "    start_time = time.time()\n",
    "    predictions = CNN_MODEL.predict_generator(generator)\n",
    "    print('Took {:.0f} seconds to get predictions on this set.'.format(\n",
    "        time.time() - start_time))\n",
    "\n",
    "    y_pred = np.argmax(predictions, axis=1)\n",
    "    y_true = generator.classes\n",
    "    return dict(y_pred=y_pred, y_true=y_true)\n",
    "\n",
    "def evaluate_test_dataset():\n",
    "    test_gen = make_generator('test')\n",
    "    return evaluate_model(test_gen)"
   ]
  },
  {
   "cell_type": "code",
   "execution_count": 32,
   "metadata": {},
   "outputs": [
    {
     "name": "stdout",
     "output_type": "stream",
     "text": [
      "Found 870 images belonging to 29 classes.\n",
      "loss: 1274.82%\n",
      "acc: 5.63%\n",
      "Took 4 seconds to evaluate this set.\n",
      "Took 4 seconds to get predictions on this set.\n"
     ]
    }
   ],
   "source": [
    "CNN_TEST_SET_EVAL = evaluate_test_dataset()"
   ]
  },
  {
   "cell_type": "code",
   "execution_count": 45,
   "metadata": {},
   "outputs": [
    {
     "name": "stdout",
     "output_type": "stream",
     "text": [
      "Confusion matrix, without normalization\n"
     ]
    },
    {
     "data": {
      "text/plain": [
       "<Figure size 1152x1152 with 0 Axes>"
      ]
     },
     "metadata": {},
     "output_type": "display_data"
    },
    {
     "data": {
      "image/png": "[encoded data removed]",
      "text/plain": [
       "<Figure size 648x432 with 2 Axes>"
      ]
     },
     "metadata": {},
     "output_type": "display_data"
    }
   ],
   "source": [
    "CLASSES = ['A','B', 'C','D', 'E','F', 'G', \n",
    "           'H', 'I','J', 'K','L', 'M','N', \n",
    "           'O','P', 'Q','R', 'S','T', 'U', \n",
    "           'V','W','X','Y','Z','del','nothing','space']\n",
    "           \n",
    "           \n",
    "def plot_confusion_matrix(cm, classes,\n",
    "                      normalize=False,\n",
    "                      title='Confusion matrix',\n",
    "                      cmap=plt.cm.Blues):\n",
    "    '''\n",
    "    Plot a confusion matrix heatmap using matplotlib. This code was obtained from\n",
    "    the scikit-learn documentation:\n",
    "\n",
    "    http://scikit-learn.org/stable/auto_examples/model_selection/plot_confusion_matrix.html\n",
    "    '''\n",
    "    if normalize:\n",
    "        cm = cm.astype('float') / cm.sum(axis=1)[:, np.newaxis]\n",
    "        print(\"Normalized confusion matrix\")\n",
    "    else:\n",
    "        print('Confusion matrix, without normalization')\n",
    "    plt.imshow(cm, interpolation='nearest', cmap=cmap)\n",
    "    plt.title(title)\n",
    "    plt.colorbar()\n",
    "    tick_marks = np.arange(len(classes))\n",
    "    plt.xticks(tick_marks, classes, rotation=45)\n",
    "    plt.yticks(tick_marks, classes)\n",
    "\n",
    "    fmt = '.2f' if normalize else 'd'\n",
    "    thresh = cm.max() / 2.\n",
    "    for i, j in itertools.product(range(cm.shape[0]), range(cm.shape[1])):\n",
    "        plt.text(j, i, format(cm[i, j], fmt),\n",
    "                 horizontalalignment=\"center\",\n",
    "                 color=\"white\" if cm[i, j] > thresh else \"black\")\n",
    "\n",
    "    plt.tight_layout()\n",
    "    plt.ylabel('True label')\n",
    "    plt.xlabel('Predicted label')\n",
    "    return           \n",
    "\n",
    "def plot_confusion_matrix_with_default_options(y_pred, y_true, classes):\n",
    "    cm = confusion_matrix(y_true, y_pred)\n",
    "    with sns.axes_style('ticks'):\n",
    "        plt.figure(figsize=(9, 6))\n",
    "        plot_confusion_matrix(cm, classes)\n",
    "        plt.show()\n",
    "    return\n",
    "    \n",
    "with sns.axes_style('ticks'):\n",
    "    plot_confusion_matrix_with_default_options(**CNN_TEST_SET_EVAL, classes=CLASSES)"
   ]
  },
  {
   "cell_type": "code",
   "execution_count": 47,
   "metadata": {},
   "outputs": [
    {
     "data": {
      "text/plain": [
       "array([[30,  0,  0,  0,  0,  0,  0,  0,  0,  0,  0,  0,  0,  0,  0,  0,\n",
       "         0,  0,  0,  0,  0,  0,  0,  0,  0,  0,  0,  0,  0],\n",
       "       [ 0, 30,  0,  0,  0,  0,  0,  0,  0,  0,  0,  0,  0,  0,  0,  0,\n",
       "         0,  0,  0,  0,  0,  0,  0,  0,  0,  0,  0,  0,  0],\n",
       "       [ 0,  0, 30,  0,  0,  0,  0,  0,  0,  0,  0,  0,  0,  0,  0,  0,\n",
       "         0,  0,  0,  0,  0,  0,  0,  0,  0,  0,  0,  0,  0],\n",
       "       [ 0,  0,  0, 30,  0,  0,  0,  0,  0,  0,  0,  0,  0,  0,  0,  0,\n",
       "         0,  0,  0,  0,  0,  0,  0,  0,  0,  0,  0,  0,  0],\n",
       "       [ 0,  0,  0,  0, 30,  0,  0,  0,  0,  0,  0,  0,  0,  0,  0,  0,\n",
       "         0,  0,  0,  0,  0,  0,  0,  0,  0,  0,  0,  0,  0],\n",
       "       [ 0,  0,  0,  0,  0, 30,  0,  0,  0,  0,  0,  0,  0,  0,  0,  0,\n",
       "         0,  0,  0,  0,  0,  0,  0,  0,  0,  0,  0,  0,  0],\n",
       "       [ 0,  0,  0,  0,  0,  0, 30,  0,  0,  0,  0,  0,  0,  0,  0,  0,\n",
       "         0,  0,  0,  0,  0,  0,  0,  0,  0,  0,  0,  0,  0],\n",
       "       [ 0,  0,  0,  0,  0,  0,  0, 30,  0,  0,  0,  0,  0,  0,  0,  0,\n",
       "         0,  0,  0,  0,  0,  0,  0,  0,  0,  0,  0,  0,  0],\n",
       "       [ 0,  0,  0,  0,  0,  0,  0,  0, 30,  0,  0,  0,  0,  0,  0,  0,\n",
       "         0,  0,  0,  0,  0,  0,  0,  0,  0,  0,  0,  0,  0],\n",
       "       [ 0,  0,  0,  0,  0,  0,  0,  0,  0, 30,  0,  0,  0,  0,  0,  0,\n",
       "         0,  0,  0,  0,  0,  0,  0,  0,  0,  0,  0,  0,  0],\n",
       "       [ 0,  0,  0,  0,  0,  0,  0,  0,  0,  0, 30,  0,  0,  0,  0,  0,\n",
       "         0,  0,  0,  0,  0,  0,  0,  0,  0,  0,  0,  0,  0],\n",
       "       [ 0,  0,  0,  0,  0,  0,  0,  0,  0,  0,  0, 30,  0,  0,  0,  0,\n",
       "         0,  0,  0,  0,  0,  0,  0,  0,  0,  0,  0,  0,  0],\n",
       "       [ 0,  0,  0,  0,  0,  0,  0,  0,  0,  0,  0,  0, 30,  0,  0,  0,\n",
       "         0,  0,  0,  0,  0,  0,  0,  0,  0,  0,  0,  0,  0],\n",
       "       [ 0,  0,  0,  0,  0,  0,  0,  0,  0,  0,  0,  0,  0, 30,  0,  0,\n",
       "         0,  0,  0,  0,  0,  0,  0,  0,  0,  0,  0,  0,  0],\n",
       "       [ 0,  0,  0,  0,  0,  0,  0,  0,  0,  0,  0,  0,  0,  0, 30,  0,\n",
       "         0,  0,  0,  0,  0,  0,  0,  0,  0,  0,  0,  0,  0],\n",
       "       [ 0,  0,  0,  0,  0,  0,  0,  0,  0,  0,  0,  0,  0,  0,  0, 30,\n",
       "         0,  0,  0,  0,  0,  0,  0,  0,  0,  0,  0,  0,  0],\n",
       "       [ 0,  0,  0,  0,  0,  0,  0,  0,  0,  0,  0,  0,  0,  0,  0,  0,\n",
       "        30,  0,  0,  0,  0,  0,  0,  0,  0,  0,  0,  0,  0],\n",
       "       [ 0,  0,  0,  0,  0,  0,  0,  0,  0,  0,  0,  0,  0,  0,  0,  0,\n",
       "         0, 30,  0,  0,  0,  0,  0,  0,  0,  0,  0,  0,  0],\n",
       "       [ 0,  0,  0,  0,  0,  0,  0,  0,  0,  0,  0,  0,  0,  0,  0,  0,\n",
       "         0,  0, 30,  0,  0,  0,  0,  0,  0,  0,  0,  0,  0],\n",
       "       [ 0,  0,  0,  0,  0,  0,  0,  0,  0,  0,  0,  0,  0,  0,  0,  0,\n",
       "         0,  0,  0, 30,  0,  0,  0,  0,  0,  0,  0,  0,  0],\n",
       "       [ 0,  0,  0,  0,  0,  0,  0,  0,  0,  0,  0,  0,  0,  0,  0,  0,\n",
       "         0,  0,  0,  0, 30,  0,  0,  0,  0,  0,  0,  0,  0],\n",
       "       [ 0,  0,  0,  0,  0,  0,  0,  0,  0,  0,  0,  0,  0,  0,  0,  0,\n",
       "         0,  0,  0,  0,  0, 30,  0,  0,  0,  0,  0,  0,  0],\n",
       "       [ 0,  0,  0,  0,  0,  0,  0,  0,  0,  0,  0,  0,  0,  0,  0,  0,\n",
       "         0,  0,  0,  0,  0,  0, 30,  0,  0,  0,  0,  0,  0],\n",
       "       [ 0,  0,  0,  0,  0,  0,  0,  0,  0,  0,  0,  0,  0,  0,  0,  0,\n",
       "         0,  0,  0,  0,  0,  0,  0, 30,  0,  0,  0,  0,  0],\n",
       "       [ 0,  0,  0,  0,  0,  0,  0,  0,  0,  0,  0,  0,  0,  0,  0,  0,\n",
       "         0,  0,  0,  0,  0,  0,  0,  0, 30,  0,  0,  0,  0],\n",
       "       [ 0,  0,  0,  0,  0,  0,  0,  0,  0,  0,  0,  0,  0,  0,  0,  0,\n",
       "         0,  0,  0,  0,  0,  0,  0,  0,  0, 30,  0,  0,  0],\n",
       "       [ 0,  0,  0,  0,  0,  0,  0,  0,  0,  0,  0,  0,  0,  0,  0,  0,\n",
       "         0,  0,  0,  0,  0,  0,  0,  0,  0,  0, 30,  0,  0],\n",
       "       [ 0,  0,  0,  0,  0,  0,  0,  0,  0,  0,  0,  0,  0,  0,  0,  0,\n",
       "         0,  0,  0,  0,  0,  0,  0,  0,  0,  0,  0, 30,  0],\n",
       "       [ 0,  0,  0,  0,  0,  0,  0,  0,  0,  0,  0,  0,  0,  0,  0,  0,\n",
       "         0,  0,  0,  0,  0,  0,  0,  0,  0,  0,  0,  0, 30]])"
      ]
     },
     "execution_count": 47,
     "metadata": {},
     "output_type": "execute_result"
    }
   ],
   "source": [
    "confusion_matrix(CNN_TEST_SET_EVAL['y_true'], CNN_TEST_SET_EVAL['y_true'])"
   ]
  },
  {
   "cell_type": "code",
   "execution_count": null,
   "metadata": {},
   "outputs": [],
   "source": []
  }
 ],
 "metadata": {
  "kernelspec": {
   "display_name": "datax",
   "language": "python",
   "name": "datax"
  }
 },
 "nbformat": 4,
 "nbformat_minor": 2
}
