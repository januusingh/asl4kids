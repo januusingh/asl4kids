{
 "cells": [
  {
   "cell_type": "code",
   "execution_count": null,
   "metadata": {},
   "outputs": [
    {
     "name": "stdout",
     "output_type": "stream",
     "text": [
      "Training letter a ...\n",
      "number of trainig: 7708\n"
     ]
    },
    {
     "name": "stderr",
     "output_type": "stream",
     "text": [
      "/Users/shreysamdani/anaconda3/envs/ieor135/lib/python3.7/site-packages/sklearn/linear_model/logistic.py:433: FutureWarning: Default solver will be changed to 'lbfgs' in 0.22. Specify a solver to silence this warning.\n",
      "  FutureWarning)\n"
     ]
    },
    {
     "name": "stdout",
     "output_type": "stream",
     "text": [
      "a 0.8153526970954357\n",
      "Training letter b ...\n",
      "number of trainig: 7708\n"
     ]
    },
    {
     "name": "stderr",
     "output_type": "stream",
     "text": [
      "/Users/shreysamdani/anaconda3/envs/ieor135/lib/python3.7/site-packages/sklearn/linear_model/logistic.py:433: FutureWarning: Default solver will be changed to 'lbfgs' in 0.22. Specify a solver to silence this warning.\n",
      "  FutureWarning)\n"
     ]
    },
    {
     "name": "stdout",
     "output_type": "stream",
     "text": [
      "b 0.7717842323651453\n",
      "Training letter c ...\n",
      "number of trainig: 7708\n"
     ]
    },
    {
     "name": "stderr",
     "output_type": "stream",
     "text": [
      "/Users/shreysamdani/anaconda3/envs/ieor135/lib/python3.7/site-packages/sklearn/linear_model/logistic.py:433: FutureWarning: Default solver will be changed to 'lbfgs' in 0.22. Specify a solver to silence this warning.\n",
      "  FutureWarning)\n"
     ]
    },
    {
     "name": "stdout",
     "output_type": "stream",
     "text": [
      "c 0.8838174273858921\n",
      "Training letter d ...\n",
      "number of trainig: 7708\n"
     ]
    },
    {
     "name": "stderr",
     "output_type": "stream",
     "text": [
      "/Users/shreysamdani/anaconda3/envs/ieor135/lib/python3.7/site-packages/sklearn/linear_model/logistic.py:433: FutureWarning: Default solver will be changed to 'lbfgs' in 0.22. Specify a solver to silence this warning.\n",
      "  FutureWarning)\n"
     ]
    },
    {
     "name": "stdout",
     "output_type": "stream",
     "text": [
      "d 0.7489626556016598\n",
      "Training letter e ...\n",
      "number of trainig: 7708\n"
     ]
    },
    {
     "name": "stderr",
     "output_type": "stream",
     "text": [
      "/Users/shreysamdani/anaconda3/envs/ieor135/lib/python3.7/site-packages/sklearn/linear_model/logistic.py:433: FutureWarning: Default solver will be changed to 'lbfgs' in 0.22. Specify a solver to silence this warning.\n",
      "  FutureWarning)\n"
     ]
    },
    {
     "name": "stdout",
     "output_type": "stream",
     "text": [
      "e 0.7878630705394191\n",
      "Training letter f ...\n",
      "number of trainig: 7708\n"
     ]
    },
    {
     "name": "stderr",
     "output_type": "stream",
     "text": [
      "/Users/shreysamdani/anaconda3/envs/ieor135/lib/python3.7/site-packages/sklearn/linear_model/logistic.py:433: FutureWarning: Default solver will be changed to 'lbfgs' in 0.22. Specify a solver to silence this warning.\n",
      "  FutureWarning)\n"
     ]
    }
   ],
   "source": [
    "from random import shuffle\n",
    "import os\n",
    "import re\n",
    "from sklearn.linear_model import LogisticRegression\n",
    "from sklearn.model_selection import train_test_split\n",
    "from sklearn import svm\n",
    "import cv2\n",
    "import imutils\n",
    "import pandas as pd\n",
    "import pickle\n",
    "import numpy as np\n",
    "\n",
    "def preprocess(img):\n",
    "    img = cv2.Sobel(img, cv2.CV_64F, 0, 1, ksize=5)\n",
    "    return img\n",
    "    \n",
    "\n",
    "letters = [chr(97+i) for i in range(26)]\n",
    "folder_path = \"handgesturedataset/\"\n",
    "models = {}\n",
    "accs =[]\n",
    "zooms = [24,32,40,48,56]\n",
    "num_angles = 30\n",
    "for letter in letters:\n",
    "    X,Y = [],[]\n",
    "    seenLetters = set()\n",
    "    trues = 0\n",
    "    falses = 0\n",
    "    files =os.listdir(folder_path)\n",
    "    shuffle(files)\n",
    "    for file in files:\n",
    "        if trues == 40:\n",
    "            break\n",
    "        if \"_\"+letter+\"_\" not in file and falses > 35:\n",
    "            continue\n",
    "        if file == \".DS_Store\":\n",
    "            continue\n",
    "        unique = file.split('seg')[0]\n",
    "        if unique in seenLetters:\n",
    "            continue\n",
    "        elif \"_\"+letter+\"_\" not in unique:\n",
    "            seenLetters.add(unique)\n",
    "            \n",
    "        orig = cv2.imread(folder_path+file)\n",
    "        count = 0\n",
    "        for flip in [orig, cv2.flip(orig,0)]:\n",
    "            for angle in range(0,360,num_angles):\n",
    "                img = imutils.rotate(flip,angle)\n",
    "                img = cv2.resize(img, (64,64))\n",
    "                img = preprocess(img)\n",
    "                for zoom in zooms:\n",
    "                    left =(64-zoom)//2\n",
    "                    right = zoom + left\n",
    "                    zoomed = img[left:right,left:right]\n",
    "                    X.append(cv2.resize(zoomed,(64,64)).flatten())\n",
    "                    count +=1\n",
    "                X.append(img.flatten())\n",
    "                count +=1\n",
    "            X.append(img.flatten())\n",
    "            count +=1\n",
    "        if \"_\"+letter+\"_\" in file:\n",
    "            Y.extend([1]*count)\n",
    "            trues += 1\n",
    "            \n",
    "        else:\n",
    "            Y.extend([0]*count)\n",
    "            falses += 1\n",
    "        \n",
    "    X_train, X_test, Y_train, Y_test = train_test_split(X,Y,test_size=0.2,random_state=1)\n",
    "#     model = svm.SVC(kernel='linear', C=1)\n",
    "    model = LogisticRegression()\n",
    "    print(\"Training letter\",letter,\"...\")\n",
    "    print(\"number of trainig:\", len(X_train))\n",
    "    model.fit(X_train,Y_train)\n",
    "    accs.append(model.score(X_test,Y_test))\n",
    "    models[letter.upper()] = model\n",
    "    print(letter, accs[-1])\n",
    "    pickle.dump(model, open(\"models/\"+letter+\".model\", 'wb'))\n",
    "\n"
   ]
  },
  {
   "cell_type": "code",
   "execution_count": 44,
   "metadata": {},
   "outputs": [],
   "source": [
    "import pickle\n",
    "for letter, mod in models.items():\n",
    "    pickle.dump(mod, open(\"models/\"+letter+\".model\", 'wb'))"
   ]
  }
 ],
 "metadata": {
  "kernelspec": {
   "display_name": "Python 3",
   "language": "python",
   "name": "python3"
  },
  "language_info": {
   "codemirror_mode": {
    "name": "ipython",
    "version": 3
   },
   "file_extension": ".py",
   "mimetype": "text/x-python",
   "name": "python",
   "nbconvert_exporter": "python",
   "pygments_lexer": "ipython3",
   "version": "3.7.3"
  }
 },
 "nbformat": 4,
 "nbformat_minor": 1
}
